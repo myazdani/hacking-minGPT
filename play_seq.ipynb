{
  "nbformat": 4,
  "nbformat_minor": 0,
  "metadata": {
    "colab": {
      "name": "play_seq.ipynb",
      "provenance": [],
      "collapsed_sections": [],
      "authorship_tag": "ABX9TyM/XRun6jod0zAcVZlaRW0s",
      "include_colab_link": true
    },
    "kernelspec": {
      "name": "python3",
      "display_name": "Python 3"
    },
    "language_info": {
      "name": "python"
    },
    "accelerator": "GPU",
    "gpuClass": "standard"
  },
  "cells": [
    {
      "cell_type": "markdown",
      "metadata": {
        "id": "view-in-github",
        "colab_type": "text"
      },
      "source": [
        "<a href=\"https://colab.research.google.com/github/myazdani/hacking-minGPT/blob/main/play_seq.ipynb\" target=\"_parent\"><img src=\"https://colab.research.google.com/assets/colab-badge.svg\" alt=\"Open In Colab\"/></a>"
      ]
    },
    {
      "cell_type": "markdown",
      "source": [
        "# Hacking minGPT with a toy sequential task\n",
        "\n",
        "François Fleuret came up with a toy sequential task to get better intuition with attention layers. Here I'll take the GPT architecture (minGPT by Andrej Karpathy specifically) to (sorta) solve the task. \n",
        "\n",
        "The task is summarized by this slide from François' deep learning course EE-559: \n",
        "\n",
        "<div>\n",
        "<img src=\"https://i.imgur.com/ez02xV9.png\" width=\"700\"/>\n",
        "</div>\n",
        "\n",
        "- the input: pairs of triangle and rectangle shapes at different heights. \n",
        "- the desired output: have the same shapes but each pair needs to have the same average height. \n",
        "\n",
        "\n",
        "<div>\n",
        "<img src=\"https://i.imgur.com/zDHnv7B.png\" width=\"700\"/>\n",
        "</div>\n",
        "\n",
        "For example, the output two triangle pairs both need to have the same height and this height needs to be the average height of the short and tall traingle pairs in the inputs."
      ],
      "metadata": {
        "id": "CeeogU4ByfWB"
      }
    },
    {
      "cell_type": "code",
      "execution_count": 1,
      "metadata": {
        "colab": {
          "base_uri": "https://localhost:8080/"
        },
        "id": "bfAysbgbIF1B",
        "outputId": "144d89df-d63e-4a9b-86b2-4c77a0c9e4e1"
      },
      "outputs": [
        {
          "output_type": "stream",
          "name": "stdout",
          "text": [
            "Cloning into 'hacking-minGPT'...\n",
            "remote: Enumerating objects: 110, done.\u001b[K\n",
            "remote: Counting objects: 100% (110/110), done.\u001b[K\n",
            "remote: Compressing objects: 100% (77/77), done.\u001b[K\n",
            "remote: Total 110 (delta 69), reused 66 (delta 31), pack-reused 0\u001b[K\n",
            "Receiving objects: 100% (110/110), 1.10 MiB | 7.02 MiB/s, done.\n",
            "Resolving deltas: 100% (69/69), done.\n",
            "--2022-07-13 04:49:50--  https://raw.githubusercontent.com/myazdani/attention-layer-demo/master/utils.py\n",
            "Resolving raw.githubusercontent.com (raw.githubusercontent.com)... 185.199.108.133, 185.199.109.133, 185.199.110.133, ...\n",
            "Connecting to raw.githubusercontent.com (raw.githubusercontent.com)|185.199.108.133|:443... connected.\n",
            "HTTP request sent, awaiting response... 200 OK\n",
            "Length: 3583 (3.5K) [text/plain]\n",
            "Saving to: ‘utils.py’\n",
            "\n",
            "utils.py            100%[===================>]   3.50K  --.-KB/s    in 0s      \n",
            "\n",
            "2022-07-13 04:49:51 (53.5 MB/s) - ‘utils.py’ saved [3583/3583]\n",
            "\n"
          ]
        }
      ],
      "source": [
        "## only needed if running on google colab\n",
        "!git clone https://github.com/myazdani/hacking-minGPT.git\n",
        "\n",
        "import sys\n",
        "  \n",
        "# adding Folder_2 to the system path\n",
        "sys.path.insert(0, './hacking-minGPT/')\n",
        "\n",
        "\n",
        "!wget https://raw.githubusercontent.com/myazdani/attention-layer-demo/master/utils.py"
      ]
    },
    {
      "cell_type": "markdown",
      "source": [
        "## get the data"
      ],
      "metadata": {
        "id": "Pct6_kwdyUjv"
      }
    },
    {
      "cell_type": "code",
      "source": [
        "# make deterministic\n",
        "import numpy as np\n",
        "import torch\n",
        "import torch.nn as nn\n",
        "from torch.nn import functional as F\n",
        "import matplotlib.pyplot as plt\n",
        "from mingpt.utils import set_seed\n",
        "set_seed(42)\n",
        "import utils as seq_utils\n",
        "\n",
        "data_gen = seq_utils.DataUtil(seq_height_min = 1.0, \n",
        "                          seq_height_max = 25.0,\n",
        "                          seq_width_min = 5.0, \n",
        "                          seq_width_max = 11.0,\n",
        "                          seq_length = 100,\n",
        "                          group_by_locations = False\n",
        "                         )"
      ],
      "metadata": {
        "id": "R3Gkb51pILS4"
      },
      "execution_count": 2,
      "outputs": []
    },
    {
      "cell_type": "code",
      "source": [
        "train_input, train_targets, train_tr, train_bx = data_gen.generate_sequences(25000)\n",
        "test_input, test_targets, test_tr, test_bx = data_gen.generate_sequences(1000)"
      ],
      "metadata": {
        "id": "sB0nzbcfIabR"
      },
      "execution_count": 3,
      "outputs": []
    },
    {
      "cell_type": "code",
      "source": [
        "plt.plot(train_input[1,0,:], label = \"input\")\n",
        "plt.plot(train_targets[1,0,:], label = \"target\")\n",
        "plt.xlabel(\"Sequence id\")\n",
        "plt.legend();"
      ],
      "metadata": {
        "colab": {
          "base_uri": "https://localhost:8080/",
          "height": 279
        },
        "id": "WA8IUkJrth83",
        "outputId": "157008d8-c3d0-499e-e939-7610ee998388"
      },
      "execution_count": 4,
      "outputs": [
        {
          "output_type": "display_data",
          "data": {
            "text/plain": [
              "<Figure size 432x288 with 1 Axes>"
            ],
            "image/png": "[encoded data removed]"
          },
          "metadata": {
            "needs_background": "light"
          }
        }
      ]
    },
    {
      "cell_type": "markdown",
      "source": [
        "### cluster the raw sequence values into discrete clusters\n",
        "\n",
        "Since the input of the minGPT needs to be discrete, I discretize with K-means. Karpathy does similar for applying minGPT to CIFAR images. "
      ],
      "metadata": {
        "id": "YwAnfJBOwYqt"
      }
    },
    {
      "cell_type": "code",
      "source": [
        "# get random 5 vals per seq and stack them all up \n",
        "pluck_vals = lambda x: x[0,torch.randperm(100)[:5]]\n",
        "random_vals = torch.cat([pluck_vals(x) for x in train_input]).numpy()\n",
        "print(random_vals.shape)"
      ],
      "metadata": {
        "colab": {
          "base_uri": "https://localhost:8080/"
        },
        "id": "7BIa0rAoImE7",
        "outputId": "f7e95609-6e99-4e6f-ffd2-5eed7f82b041"
      },
      "execution_count": 5,
      "outputs": [
        {
          "output_type": "stream",
          "name": "stdout",
          "text": [
            "(125000,)\n"
          ]
        }
      ]
    },
    {
      "cell_type": "code",
      "source": [
        "from sklearn.cluster import KMeans\n",
        "num_clusters = 256\n",
        "kmeans = KMeans(n_clusters=num_clusters, random_state=0).fit(random_vals[:,np.newaxis])\n",
        "kmeans.labels_"
      ],
      "metadata": {
        "colab": {
          "base_uri": "https://localhost:8080/"
        },
        "id": "NTqsSl74IpaX",
        "outputId": "2e08f617-3f80-43b8-bf3b-f708d5df9f23"
      },
      "execution_count": 6,
      "outputs": [
        {
          "output_type": "execute_result",
          "data": {
            "text/plain": [
              "array([216, 209, 255, ...,  71, 228,  96], dtype=int32)"
            ]
          },
          "metadata": {},
          "execution_count": 6
        }
      ]
    },
    {
      "cell_type": "markdown",
      "source": [
        "## Wrap discretizes sequences into a dataloader"
      ],
      "metadata": {
        "id": "K9CaNHxnzssu"
      }
    },
    {
      "cell_type": "code",
      "source": [
        "from torch.utils.data import Dataset\n",
        "\n",
        "class SeqDataset(Dataset):\n",
        "    \"\"\"\n",
        "    wrap up seq dataset into our own, which will convert floating points into sequences of integers\n",
        "    \"\"\"\n",
        "    \n",
        "    def __init__(self, inputs, targets, kmeans_clusters):\n",
        "        self.inputs = inputs\n",
        "        self.targets = targets\n",
        "        self.kmeans_clusters = kmeans_clusters\n",
        "        \n",
        "    def __len__(self):\n",
        "        return len(self.inputs)\n",
        "\n",
        "    def __getitem__(self, idx):\n",
        "        x, y = self.inputs[idx], self.targets[idx]\n",
        "        batch_size = x.shape[0]\n",
        "        x_np = x.view(-1,1).numpy()\n",
        "        y_np = y.view(-1,1).numpy()\n",
        "        x_clusters = torch.from_numpy(self.kmeans_clusters.predict(x_np)).view(batch_size,-1).long()\n",
        "        y_clusters = torch.from_numpy(self.kmeans_clusters.predict(y_np)).view(batch_size,-1).long()\n",
        "\n",
        "        return x_clusters.squeeze(), y_clusters.squeeze()"
      ],
      "metadata": {
        "id": "VWUv1riM1Sjc"
      },
      "execution_count": 7,
      "outputs": []
    },
    {
      "cell_type": "code",
      "source": [
        "train_dataset = SeqDataset(train_input, train_targets, kmeans)\n",
        "test_dataset = SeqDataset(test_input, test_targets, kmeans)\n",
        "train_dataset[0][0] # one example sequence flattened out into integers"
      ],
      "metadata": {
        "colab": {
          "base_uri": "https://localhost:8080/"
        },
        "id": "VSysm7cG39E7",
        "outputId": "443403d6-ad3f-4852-8e72-9efff8219665"
      },
      "execution_count": 8,
      "outputs": [
        {
          "output_type": "execute_result",
          "data": {
            "text/plain": [
              "tensor([ 80, 117,  49, 246,  32, 124, 255,  80, 178,   0, 117, 216, 117,   0,\n",
              "          0, 228, 156,  95, 241,  95, 156, 241,  96, 246, 206,   5,  77, 191,\n",
              "        163, 106, 115, 170, 113, 232, 231, 176,  96, 178, 216,  80,  80, 110,\n",
              "         86,  50, 159, 137, 148, 144, 188,  75, 255,  32, 176,  32, 117, 180,\n",
              "         32, 216,  71,  49,  14,  80, 255, 178,   0,  80, 255, 178,  83, 209,\n",
              "         83, 223, 209, 133, 133, 124, 216, 246, 228, 167, 178, 176,  14, 216,\n",
              "        180, 180,  71, 178,  71,  49, 167, 176,  49,  14, 117,  96, 117,  49,\n",
              "         14, 246])"
            ]
          },
          "metadata": {},
          "execution_count": 8
        }
      ]
    },
    {
      "cell_type": "markdown",
      "source": [
        "# GPT training\n",
        "\n",
        "mostly using paramters used for CIFAR; might be a bit overkill?"
      ],
      "metadata": {
        "id": "Lz8etkO7z0TB"
      }
    },
    {
      "cell_type": "code",
      "source": [
        "from mingpt.model import GPT, GPTConfig\n",
        "block_size = 100\n",
        "mconf = GPTConfig(num_clusters, block_size,\n",
        "                  embd_pdrop=0.0, resid_pdrop=0.0, attn_pdrop=0.0,\n",
        "                  n_layer=12, n_head=8, n_embd=256)\n",
        "model = GPT(mconf)\n"
      ],
      "metadata": {
        "id": "bmLdj1Ym4aHc"
      },
      "execution_count": 9,
      "outputs": []
    },
    {
      "cell_type": "code",
      "source": [
        "from mingpt.trainer import Trainer, TrainerConfig\n",
        "\n",
        "# initialize a trainer instance and kick off training\n",
        "# kinda guessing these\n",
        "tconf = TrainerConfig(max_epochs=10, batch_size=256, learning_rate=1e-4,\n",
        "                      lr_decay=True, warmup_tokens=1024, \n",
        "                      num_workers=2)\n",
        "\n",
        "trainer = Trainer(model, train_dataset, None, tconf)\n",
        "trainer.train()"
      ],
      "metadata": {
        "colab": {
          "base_uri": "https://localhost:8080/"
        },
        "id": "op7rQ4uf4kbD",
        "outputId": "aec05b62-647a-437f-fad2-e46db1149ebb"
      },
      "execution_count": 10,
      "outputs": [
        {
          "output_type": "stream",
          "name": "stderr",
          "text": [
            "epoch 1 iter 97: train loss 3.76646. lr 1.000000e-04: 100%|██████████| 98/98 [00:44<00:00,  2.18it/s]\n",
            "epoch 2 iter 97: train loss 3.52670. lr 1.000000e-04: 100%|██████████| 98/98 [00:42<00:00,  2.32it/s]\n",
            "epoch 3 iter 97: train loss 3.46497. lr 1.000000e-04: 100%|██████████| 98/98 [00:41<00:00,  2.34it/s]\n",
            "epoch 4 iter 97: train loss 3.38630. lr 1.000000e-04: 100%|██████████| 98/98 [00:42<00:00,  2.33it/s]\n",
            "epoch 5 iter 97: train loss 3.32625. lr 1.000000e-04: 100%|██████████| 98/98 [00:42<00:00,  2.33it/s]\n",
            "epoch 6 iter 97: train loss 3.27124. lr 1.000000e-04: 100%|██████████| 98/98 [00:42<00:00,  2.33it/s]\n",
            "epoch 7 iter 97: train loss 3.21525. lr 1.000000e-04: 100%|██████████| 98/98 [00:41<00:00,  2.33it/s]\n",
            "epoch 8 iter 97: train loss 3.17643. lr 1.000000e-04: 100%|██████████| 98/98 [00:42<00:00,  2.32it/s]\n",
            "epoch 9 iter 97: train loss 3.14479. lr 1.000000e-04: 100%|██████████| 98/98 [00:42<00:00,  2.33it/s]\n",
            "epoch 10 iter 97: train loss 3.11946. lr 1.000000e-04: 100%|██████████| 98/98 [00:41<00:00,  2.34it/s]\n"
          ]
        }
      ]
    },
    {
      "cell_type": "code",
      "source": [
        "def compare_predictions(example_pair):\n",
        "    device = 'cuda' if torch.cuda.is_available() else 'cpu'\n",
        "    pred = model(example_pair[0].view(1,-1).to(device))\n",
        "\n",
        "    # inverse kmeans transform the inputs, predictions, and outputs\n",
        "    raw_input = kmeans.cluster_centers_[:,0][example_pair[0].cpu().numpy()]\n",
        "    raw_pred = kmeans.cluster_centers_[:,0][pred[0].argmax(axis=2).cpu().numpy().squeeze()]\n",
        "    raw_output = kmeans.cluster_centers_[:,0][example_pair[1].cpu().numpy()]\n",
        "    plt.plot(raw_input, label = 'input')\n",
        "    plt.plot(raw_pred, label = 'pred target')\n",
        "    plt.plot(raw_output, label = 'actual target')\n",
        "    plt.legend();"
      ],
      "metadata": {
        "id": "mOblsisCs0LS"
      },
      "execution_count": 11,
      "outputs": []
    },
    {
      "cell_type": "code",
      "source": [
        "compare_predictions(test_dataset[0])"
      ],
      "metadata": {
        "colab": {
          "base_uri": "https://localhost:8080/",
          "height": 265
        },
        "id": "gxGw_Ba20o_x",
        "outputId": "81420a88-26cb-48e6-9086-0083eac3bfa2"
      },
      "execution_count": 12,
      "outputs": [
        {
          "output_type": "display_data",
          "data": {
            "text/plain": [
              "<Figure size 432x288 with 1 Axes>"
            ],
            "image/png": "[encoded data removed]"
          },
          "metadata": {
            "needs_background": "light"
          }
        }
      ]
    },
    {
      "cell_type": "code",
      "source": [
        "# looks like we need some more training iterations.."
      ],
      "metadata": {
        "id": "V30sIs70xX61"
      },
      "execution_count": 25,
      "outputs": []
    },
    {
      "cell_type": "code",
      "source": [
        ""
      ],
      "metadata": {
        "id": "KQMgQpsr4q0Y"
      },
      "execution_count": null,
      "outputs": []
    }
  ]
}