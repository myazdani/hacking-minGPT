{
  "nbformat": 4,
  "nbformat_minor": 0,
  "metadata": {
    "colab": {
      "name": "play_seq.ipynb",
      "provenance": [],
      "collapsed_sections": [],
      "authorship_tag": "ABX9TyPItV8BOZlc7OjcJMpOdkiK",
      "include_colab_link": true
    },
    "kernelspec": {
      "name": "python3",
      "display_name": "Python 3"
    },
    "language_info": {
      "name": "python"
    },
    "accelerator": "GPU",
    "gpuClass": "standard"
  },
  "cells": [
    {
      "cell_type": "markdown",
      "metadata": {
        "id": "view-in-github",
        "colab_type": "text"
      },
      "source": [
        "<a href=\"https://colab.research.google.com/github/myazdani/hacking-minGPT/blob/main/play_seq.ipynb\" target=\"_parent\"><img src=\"https://colab.research.google.com/assets/colab-badge.svg\" alt=\"Open In Colab\"/></a>"
      ]
    },
    {
      "cell_type": "code",
      "execution_count": 1,
      "metadata": {
        "colab": {
          "base_uri": "https://localhost:8080/"
        },
        "id": "bfAysbgbIF1B",
        "outputId": "724ac194-2ce3-494f-83fa-8f8f9352646c"
      },
      "outputs": [
        {
          "output_type": "stream",
          "name": "stdout",
          "text": [
            "fatal: destination path 'hacking-minGPT' already exists and is not an empty directory.\n"
          ]
        }
      ],
      "source": [
        "!git clone https://github.com/myazdani/hacking-minGPT.git\n",
        "\n",
        "import sys\n",
        "  \n",
        "# adding Folder_2 to the system path\n",
        "sys.path.insert(0, './hacking-minGPT/')"
      ]
    },
    {
      "cell_type": "code",
      "source": [
        "## only needed if running on google colab\n",
        "!wget https://raw.githubusercontent.com/myazdani/attention-layer-demo/master/utils.py"
      ],
      "metadata": {
        "colab": {
          "base_uri": "https://localhost:8080/"
        },
        "id": "yNpL6Py9IG-C",
        "outputId": "38b5fb37-b639-4b51-e19f-24c6a8084763"
      },
      "execution_count": 2,
      "outputs": [
        {
          "output_type": "stream",
          "name": "stdout",
          "text": [
            "--2022-07-11 05:31:25--  https://raw.githubusercontent.com/myazdani/attention-layer-demo/master/utils.py\n",
            "Resolving raw.githubusercontent.com (raw.githubusercontent.com)... 185.199.110.133, 185.199.111.133, 185.199.108.133, ...\n",
            "Connecting to raw.githubusercontent.com (raw.githubusercontent.com)|185.199.110.133|:443... connected.\n",
            "HTTP request sent, awaiting response... 200 OK\n",
            "Length: 3583 (3.5K) [text/plain]\n",
            "Saving to: ‘utils.py.1’\n",
            "\n",
            "\rutils.py.1            0%[                    ]       0  --.-KB/s               \rutils.py.1          100%[===================>]   3.50K  --.-KB/s    in 0s      \n",
            "\n",
            "2022-07-11 05:31:25 (50.5 MB/s) - ‘utils.py.1’ saved [3583/3583]\n",
            "\n"
          ]
        }
      ]
    },
    {
      "cell_type": "code",
      "source": [
        "import utils\n",
        "\n",
        "data_gen = utils.DataUtil(seq_height_min = 1.0, \n",
        "                          seq_height_max = 25.0,\n",
        "                          seq_width_min = 5.0, \n",
        "                          seq_width_max = 11.0,\n",
        "                          seq_length = 100,\n",
        "                          group_by_locations = False\n",
        "                         )"
      ],
      "metadata": {
        "id": "R3Gkb51pILS4"
      },
      "execution_count": 3,
      "outputs": []
    },
    {
      "cell_type": "code",
      "source": [
        "# set up logging\n",
        "import logging\n",
        "logging.basicConfig(\n",
        "        format=\"%(asctime)s - %(levelname)s - %(name)s -   %(message)s\",\n",
        "        datefmt=\"%m/%d/%Y %H:%M:%S\",\n",
        "        level=logging.INFO,\n",
        ")"
      ],
      "metadata": {
        "id": "9EjyTNQMIOYX"
      },
      "execution_count": 4,
      "outputs": []
    },
    {
      "cell_type": "code",
      "source": [
        "# make deterministic\n",
        "from mingpt.utils import set_seed\n",
        "set_seed(42)"
      ],
      "metadata": {
        "id": "YRtkrvF4IT3E"
      },
      "execution_count": 5,
      "outputs": []
    },
    {
      "cell_type": "code",
      "source": [
        "import numpy as np\n",
        "import torch\n",
        "import torch.nn as nn\n",
        "from torch.nn import functional as F"
      ],
      "metadata": {
        "id": "BeJuUOCWIW-Z"
      },
      "execution_count": 6,
      "outputs": []
    },
    {
      "cell_type": "code",
      "source": [
        "train_input, train_targets, train_tr, train_bx = data_gen.generate_sequences(25000)\n",
        "test_input, test_targets, test_tr, test_bx = data_gen.generate_sequences(1000)"
      ],
      "metadata": {
        "id": "sB0nzbcfIabR"
      },
      "execution_count": 7,
      "outputs": []
    },
    {
      "cell_type": "code",
      "source": [
        "plt.plot(train_input[1,0,:], label = \"input\")\n",
        "plt.plot(train_targets[1,0,:], label = \"target\")\n",
        "plt.xlabel(\"Sequence id\")\n",
        "plt.legend();"
      ],
      "metadata": {
        "id": "WA8IUkJrth83",
        "outputId": "262c2dbc-7d99-4123-98c3-678c17bb11b7",
        "colab": {
          "base_uri": "https://localhost:8080/",
          "height": 279
        }
      },
      "execution_count": 66,
      "outputs": [
        {
          "output_type": "display_data",
          "data": {
            "text/plain": [
              "<Figure size 432x288 with 1 Axes>"
            ],
            "image/png": "[encoded data removed]"
          },
          "metadata": {
            "needs_background": "light"
          }
        }
      ]
    },
    {
      "cell_type": "markdown",
      "source": [
        "### cluster the raw sequence values into discrete clusters"
      ],
      "metadata": {
        "id": "YwAnfJBOwYqt"
      }
    },
    {
      "cell_type": "code",
      "source": [
        "# get random 5 vals per seq and stack them all up \n",
        "pluck_vals = lambda x: x[0,torch.randperm(100)[:5]]\n",
        "random_vals = torch.cat([pluck_vals(x) for x in train_input]).numpy()\n",
        "print(random_vals.shape)"
      ],
      "metadata": {
        "colab": {
          "base_uri": "https://localhost:8080/"
        },
        "id": "7BIa0rAoImE7",
        "outputId": "55ef4924-6a07-438f-c210-aabc90789b65"
      },
      "execution_count": 8,
      "outputs": [
        {
          "output_type": "stream",
          "name": "stdout",
          "text": [
            "(125000,)\n"
          ]
        }
      ]
    },
    {
      "cell_type": "code",
      "source": [
        "from sklearn.cluster import KMeans\n",
        "import numpy as np\n",
        "num_clusters = 256\n",
        "kmeans = KMeans(n_clusters=num_clusters, random_state=0).fit(random_vals[:,np.newaxis])\n",
        "kmeans.labels_"
      ],
      "metadata": {
        "colab": {
          "base_uri": "https://localhost:8080/"
        },
        "id": "NTqsSl74IpaX",
        "outputId": "0d4c95e0-f19e-49e0-ec15-a1719b573fcc"
      },
      "execution_count": 9,
      "outputs": [
        {
          "output_type": "execute_result",
          "data": {
            "text/plain": [
              "array([216, 209, 255, ...,  71, 228,  96], dtype=int32)"
            ]
          },
          "metadata": {},
          "execution_count": 9
        }
      ]
    },
    {
      "cell_type": "code",
      "source": [
        "from torch.utils.data import Dataset\n",
        "\n",
        "class SeqDataset(Dataset):\n",
        "    \"\"\"\n",
        "    wrap up seq dataset into our own, which will convert floating points into sequences of integers\n",
        "    \"\"\"\n",
        "    \n",
        "    def __init__(self, inputs, targets, kmeans_clusters):\n",
        "        self.inputs = inputs\n",
        "        self.targets = targets\n",
        "        self.kmeans_clusters = kmeans_clusters\n",
        "        \n",
        "    def __len__(self):\n",
        "        return len(self.inputs)\n",
        "\n",
        "    def __getitem__(self, idx):\n",
        "        x, y = self.inputs[idx], self.targets[idx]\n",
        "        batch_size = x.shape[0]\n",
        "        x_np = x.view(-1,1).numpy()\n",
        "        y_np = y.view(-1,1).numpy()\n",
        "        x_clusters = torch.from_numpy(self.kmeans_clusters.predict(x_np)).view(batch_size,-1).long()\n",
        "        y_clusters = torch.from_numpy(self.kmeans_clusters.predict(y_np)).view(batch_size,-1).long()\n",
        "\n",
        "        return x_clusters.squeeze(), y_clusters.squeeze()"
      ],
      "metadata": {
        "id": "VWUv1riM1Sjc"
      },
      "execution_count": 10,
      "outputs": []
    },
    {
      "cell_type": "code",
      "source": [
        "train_dataset = SeqDataset(train_input, train_targets, kmeans)\n",
        "test_dataset = SeqDataset(test_input, test_targets, kmeans)\n",
        "train_dataset[0][0] # one example sequence flattened out into integers"
      ],
      "metadata": {
        "colab": {
          "base_uri": "https://localhost:8080/"
        },
        "id": "VSysm7cG39E7",
        "outputId": "6c7df015-0402-40ac-d5c5-c513d3ff865c"
      },
      "execution_count": 11,
      "outputs": [
        {
          "output_type": "execute_result",
          "data": {
            "text/plain": [
              "tensor([ 80, 117,  49, 246,  32, 124, 255,  80, 178,   0, 117, 216, 117,   0,\n",
              "          0, 228, 156,  95, 241,  95, 156, 241,  96, 246, 206,   5,  77, 191,\n",
              "        163, 106, 115, 170, 113, 232, 231, 176,  96, 178, 216,  80,  80, 110,\n",
              "         86,  50, 159, 137, 148, 144, 188,  75, 255,  32, 176,  32, 117, 180,\n",
              "         32, 216,  71,  49,  14,  80, 255, 178,   0,  80, 255, 178,  83, 209,\n",
              "         83, 223, 209, 133, 133, 124, 216, 246, 228, 167, 178, 176,  14, 216,\n",
              "        180, 180,  71, 178,  71,  49, 167, 176,  49,  14, 117,  96, 117,  49,\n",
              "         14, 246])"
            ]
          },
          "metadata": {},
          "execution_count": 11
        }
      ]
    },
    {
      "cell_type": "code",
      "source": [
        "from mingpt.model import GPT, GPTConfig\n",
        "block_size = 100\n",
        "mconf = GPTConfig(num_clusters, block_size,\n",
        "                  n_layer=2, n_head=4, n_embd=128)\n",
        "model = GPT(mconf)"
      ],
      "metadata": {
        "colab": {
          "base_uri": "https://localhost:8080/"
        },
        "id": "bmLdj1Ym4aHc",
        "outputId": "f04d145f-d62f-4783-95ab-54f901544733"
      },
      "execution_count": 12,
      "outputs": [
        {
          "output_type": "stream",
          "name": "stderr",
          "text": [
            "07/11/2022 05:32:08 - INFO - mingpt.model -   number of parameters: 4.751360e+05\n"
          ]
        }
      ]
    },
    {
      "cell_type": "code",
      "source": [
        "from mingpt.trainer import Trainer, TrainerConfig\n",
        "\n",
        "# initialize a trainer instance and kick off training\n",
        "tconf = TrainerConfig(max_epochs=10, batch_size=128, learning_rate=6e-4,\n",
        "                      lr_decay=True, warmup_tokens=512*20, final_tokens=2*len(train_dataset)*block_size,\n",
        "                      num_workers=4)\n",
        "trainer = Trainer(model, train_dataset, None, tconf)\n",
        "trainer.train()"
      ],
      "metadata": {
        "colab": {
          "base_uri": "https://localhost:8080/"
        },
        "id": "op7rQ4uf4kbD",
        "outputId": "db634981-4784-4e69-eb46-9f4b5637c4e2"
      },
      "execution_count": 13,
      "outputs": [
        {
          "output_type": "stream",
          "name": "stderr",
          "text": [
            "/usr/local/lib/python3.7/dist-packages/torch/utils/data/dataloader.py:490: UserWarning: This DataLoader will create 4 worker processes in total. Our suggested max number of worker in current system is 2, which is smaller than what this DataLoader is going to create. Please be aware that excessive worker creation might get DataLoader running slow or even freeze, lower the worker number to avoid potential slowness/freeze if necessary.\n",
            "  cpuset_checked))\n",
            "epoch 1 iter 195: train loss 3.58380. lr 3.009671e-04: 100%|██████████| 196/196 [00:18<00:00, 10.43it/s]\n",
            "epoch 2 iter 195: train loss 3.49141. lr 6.000000e-05: 100%|██████████| 196/196 [00:18<00:00, 10.41it/s]\n",
            "epoch 3 iter 195: train loss 3.47218. lr 3.009671e-04: 100%|██████████| 196/196 [00:19<00:00,  9.93it/s]\n",
            "epoch 4 iter 195: train loss 3.43543. lr 5.999938e-04: 100%|██████████| 196/196 [00:19<00:00,  9.81it/s]\n",
            "epoch 5 iter 195: train loss 3.38589. lr 2.970988e-04: 100%|██████████| 196/196 [00:18<00:00, 10.38it/s]\n",
            "epoch 6 iter 195: train loss 3.36949. lr 6.000000e-05: 100%|██████████| 196/196 [00:18<00:00, 10.33it/s]\n",
            "epoch 7 iter 195: train loss 3.34589. lr 3.048352e-04: 100%|██████████| 196/196 [00:19<00:00, 10.30it/s]\n",
            "epoch 8 iter 195: train loss 3.34116. lr 5.999439e-04: 100%|██████████| 196/196 [00:19<00:00,  9.91it/s]\n",
            "epoch 9 iter 195: train loss 3.25925. lr 2.932310e-04: 100%|██████████| 196/196 [00:19<00:00, 10.22it/s]\n",
            "epoch 10 iter 195: train loss 3.20863. lr 6.000000e-05: 100%|██████████| 196/196 [00:20<00:00,  9.40it/s]\n"
          ]
        }
      ]
    },
    {
      "cell_type": "code",
      "source": [
        "train_dataset[0][0].view(1,-1).size()"
      ],
      "metadata": {
        "colab": {
          "base_uri": "https://localhost:8080/"
        },
        "id": "0BGu4icZ5iyU",
        "outputId": "49fd019c-6f0f-4531-c575-fc40de14f0d1"
      },
      "execution_count": 14,
      "outputs": [
        {
          "output_type": "execute_result",
          "data": {
            "text/plain": [
              "torch.Size([1, 100])"
            ]
          },
          "metadata": {},
          "execution_count": 14
        }
      ]
    },
    {
      "cell_type": "code",
      "source": [
        "pred = model(train_dataset[0][0].view(1,-1).cuda())"
      ],
      "metadata": {
        "id": "2H8C5QDSuz41"
      },
      "execution_count": 18,
      "outputs": []
    },
    {
      "cell_type": "code",
      "source": [
        "import matplotlib.pyplot as plt"
      ],
      "metadata": {
        "id": "45kc4nfxsSwJ"
      },
      "execution_count": 19,
      "outputs": []
    },
    {
      "cell_type": "code",
      "source": [
        "plt.plot(kmeans.cluster_centers_[:,0][train_dataset[0][0].cpu().numpy()], label = 'input')\n",
        "plt.plot(kmeans.cluster_centers_[:,0][pred[0].argmax(axis=2).cpu().numpy().squeeze()], label = 'pred target')\n",
        "plt.plot(kmeans.cluster_centers_[:,0][train_dataset[0][1].cpu().numpy()], label = 'actual target')\n",
        "plt.legend();"
      ],
      "metadata": {
        "id": "_J4n1yP2q0Hu",
        "outputId": "526877f4-bedd-4b4a-a46a-329cd1abed05",
        "colab": {
          "base_uri": "https://localhost:8080/",
          "height": 265
        }
      },
      "execution_count": 27,
      "outputs": [
        {
          "output_type": "display_data",
          "data": {
            "text/plain": [
              "<Figure size 432x288 with 1 Axes>"
            ],
            "image/png": "[encoded data removed]"
          },
          "metadata": {
            "needs_background": "light"
          }
        }
      ]
    },
    {
      "cell_type": "code",
      "source": [
        "pred = model(test_dataset[0][0].view(1,-1).cuda())"
      ],
      "metadata": {
        "id": "T1tAL-Mttzp0"
      },
      "execution_count": 28,
      "outputs": []
    },
    {
      "cell_type": "code",
      "source": [
        "plt.plot(kmeans.cluster_centers_[:,0][test_dataset[0][0].cpu().numpy()], label = 'input')\n",
        "plt.plot(kmeans.cluster_centers_[:,0][pred[0].argmax(axis=2).cpu().numpy().squeeze()], label = 'pred target')\n",
        "plt.plot(kmeans.cluster_centers_[:,0][test_dataset[0][1].cpu().numpy()], label = 'actual target')\n",
        "plt.legend();"
      ],
      "metadata": {
        "id": "-Vqa01V7xSvT",
        "outputId": "34e28908-6ce8-4a02-b45a-a4749ce35448",
        "colab": {
          "base_uri": "https://localhost:8080/",
          "height": 265
        }
      },
      "execution_count": 29,
      "outputs": [
        {
          "output_type": "display_data",
          "data": {
            "text/plain": [
              "<Figure size 432x288 with 1 Axes>"
            ],
            "image/png": "[encoded data removed]"
          },
          "metadata": {
            "needs_background": "light"
          }
        }
      ]
    },
    {
      "cell_type": "code",
      "source": [
        ""
      ],
      "metadata": {
        "id": "V30sIs70xX61"
      },
      "execution_count": null,
      "outputs": []
    }
  ]
}